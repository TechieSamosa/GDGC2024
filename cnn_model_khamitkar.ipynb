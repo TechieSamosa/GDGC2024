{
 "cells": [
  {
   "cell_type": "markdown",
   "metadata": {},
   "source": [
    "Importing the Libraries"
   ]
  },
  {
   "cell_type": "code",
   "execution_count": 15,
   "metadata": {},
   "outputs": [],
   "source": [
    "import numpy as np\n",
    "import pandas as pd\n",
    "from sklearn.model_selection import train_test_split\n",
    "from sklearn.preprocessing import LabelEncoder, StandardScaler\n",
    "from sklearn.metrics import accuracy_score, f1_score, precision_score\n",
    "import tensorflow as tf\n",
    "from tensorflow.keras.models import Sequential\n",
    "from tensorflow.keras.layers import Conv1D, Dense, Flatten, MaxPooling1D, Dropout\n",
    "import matplotlib.pyplot as plt"
   ]
  },
  {
   "cell_type": "markdown",
   "metadata": {},
   "source": [
    "Let's start by loading and examining the dataset.\n",
    "\n",
    "The dataset consists of 6607 rows and 20 columns, with a mixture of numerical and categorical data. The target variable seems to be the `Exam_Score`, which is a numerical score we aim to predict.\n",
    "\n",
    "Here is an outline of the columns:\n",
    "- Numerical features: `Hours_Studied`, `Attendance`, `Sleep_Hours`, `Previous_Scores`, `Tutoring_Sessions`, `Physical_Activity`, `Exam_Score` (target variable).\n",
    "- Categorical features: `Parental_Involvement`, `Access_to_Resources`, `Extracurricular_Activities`, etc.\n"
   ]
  },
  {
   "cell_type": "code",
   "execution_count": 16,
   "metadata": {},
   "outputs": [],
   "source": [
    "# Load the dataset\n",
    "df = pd.read_csv('StudentPerformanceFactors.csv')"
   ]
  },
  {
   "cell_type": "markdown",
   "metadata": {},
   "source": [
    "### 1. Preprocessing the data:\n",
    "I'll now preprocess the data, encode the categorical features, and normalize the numerical ones. Then we'll reshape it for the CNN models.\n",
    "\n",
    "The data has been reshaped to a 3D format suitable for CNNs, with the shape `(samples, features, 1)`:\n",
    "- Training set: 5285 samples with 19 features.\n",
    "- Test set: 1322 samples with 19 features.\n",
    "\n",
    "Now, let's build and train two CNN models:"
   ]
  },
  {
   "cell_type": "markdown",
   "metadata": {},
   "source": [
    "Since CNNs work best with spatially correlated data (such as images), applying them to numerical/categorical data requires transforming the data into a format that CNNs can handle. One way is by reshaping or representing the data in a \"grid\" format. Here's what we'll do:\n",
    "\n",
    "### Steps:\n",
    "1. **Preprocess the data**: \n",
    "   - Encode categorical variables.\n",
    "   - Normalize numerical values.\n",
    "   - Reshape the data to fit the CNN input format (we can treat this data as 1D \"images\").\n",
    "   \n",
    "2. **Build two CNN models**:\n",
    "   - Model 1: A basic CNN with a few convolutional layers.\n",
    "   - Model 2: A more complex CNN with additional layers.\n",
    "\n",
    "3. **Train the models and evaluate their performance** (Accuracy, F1 Score, Precision).\n",
    "\n",
    "4. **Visualize the results using Matplotlib**.\n",
    "\n",
    "Let’s proceed with these steps:"
   ]
  },
  {
   "cell_type": "code",
   "execution_count": 17,
   "metadata": {},
   "outputs": [],
   "source": [
    "# Encode categorical columns\n",
    "categorical_cols = ['Parental_Involvement', 'Access_to_Resources', 'Extracurricular_Activities', \n",
    "                    'Motivation_Level', 'Internet_Access', 'Family_Income', 'Teacher_Quality', \n",
    "                    'School_Type', 'Peer_Influence', 'Learning_Disabilities', \n",
    "                    'Parental_Education_Level', 'Distance_from_Home', 'Gender']\n",
    "\n",
    "label_encoders = {col: LabelEncoder() for col in categorical_cols}\n",
    "for col in categorical_cols:\n",
    "    df[col] = label_encoders[col].fit_transform(df[col].astype(str))\n",
    "\n",
    "df.fillna(df.median(), inplace=True)\n"
   ]
  },
  {
   "cell_type": "code",
   "execution_count": 18,
   "metadata": {},
   "outputs": [],
   "source": [
    "# Encode categorical columns\n",
    "categorical_cols = ['Parental_Involvement', 'Access_to_Resources', 'Extracurricular_Activities', \n",
    "                    'Motivation_Level', 'Internet_Access', 'Family_Income', 'Teacher_Quality', \n",
    "                    'School_Type', 'Peer_Influence', 'Learning_Disabilities', \n",
    "                    'Parental_Education_Level', 'Distance_from_Home', 'Gender']\n",
    "\n",
    "label_encoders = {col: LabelEncoder() for col in categorical_cols}\n",
    "for col in categorical_cols:\n",
    "    df[col] = label_encoders[col].fit_transform(df[col].astype(str))\n",
    "\n",
    "df.fillna(df.median(), inplace=True)\n",
    "\n",
    "# Normalize the numerical columns\n",
    "numerical_cols = ['Hours_Studied', 'Attendance', 'Sleep_Hours', 'Previous_Scores', \n",
    "                  'Tutoring_Sessions', 'Physical_Activity']\n",
    "scaler = StandardScaler()\n",
    "df[numerical_cols] = scaler.fit_transform(df[numerical_cols])"
   ]
  },
  {
   "cell_type": "markdown",
   "metadata": {},
   "source": [
    "### 2. Building two CNN models:\n",
    "- **Model 1**: A simple CNN with one convolutional layer and a fully connected layer.\n",
    "- **Model 2**: A deeper CNN with more convolutional layers and pooling layers for additional complexity."
   ]
  },
  {
   "cell_type": "code",
   "execution_count": 19,
   "metadata": {},
   "outputs": [
    {
     "name": "stderr",
     "output_type": "stream",
     "text": [
      "c:\\Users\\Chimni\\AppData\\Local\\Programs\\Python\\Python312\\Lib\\site-packages\\keras\\src\\layers\\convolutional\\base_conv.py:107: UserWarning: Do not pass an `input_shape`/`input_dim` argument to a layer. When using Sequential models, prefer using an `Input(shape)` object as the first layer in the model instead.\n",
      "  super().__init__(activity_regularizer=activity_regularizer, **kwargs)\n"
     ]
    },
    {
     "name": "stdout",
     "output_type": "stream",
     "text": [
      "Epoch 1/10\n",
      "\u001b[1m166/166\u001b[0m \u001b[32m━━━━━━━━━━━━━━━━━━━━\u001b[0m\u001b[37m\u001b[0m \u001b[1m2s\u001b[0m 4ms/step - loss: 2474.6089 - mae: 43.6819 - val_loss: 66.6994 - val_mae: 6.4257\n",
      "Epoch 2/10\n",
      "\u001b[1m166/166\u001b[0m \u001b[32m━━━━━━━━━━━━━━━━━━━━\u001b[0m\u001b[37m\u001b[0m \u001b[1m1s\u001b[0m 3ms/step - loss: 61.0397 - mae: 6.1159 - val_loss: 49.9396 - val_mae: 5.5070\n",
      "Epoch 3/10\n",
      "\u001b[1m166/166\u001b[0m \u001b[32m━━━━━━━━━━━━━━━━━━━━\u001b[0m\u001b[37m\u001b[0m \u001b[1m1s\u001b[0m 3ms/step - loss: 47.9480 - mae: 5.3479 - val_loss: 38.2112 - val_mae: 4.7959\n",
      "Epoch 4/10\n",
      "\u001b[1m166/166\u001b[0m \u001b[32m━━━━━━━━━━━━━━━━━━━━\u001b[0m\u001b[37m\u001b[0m \u001b[1m1s\u001b[0m 3ms/step - loss: 36.7296 - mae: 4.5933 - val_loss: 29.5906 - val_mae: 4.1714\n",
      "Epoch 5/10\n",
      "\u001b[1m166/166\u001b[0m \u001b[32m━━━━━━━━━━━━━━━━━━━━\u001b[0m\u001b[37m\u001b[0m \u001b[1m1s\u001b[0m 4ms/step - loss: 27.7793 - mae: 3.9843 - val_loss: 22.8525 - val_mae: 3.6021\n",
      "Epoch 6/10\n",
      "\u001b[1m166/166\u001b[0m \u001b[32m━━━━━━━━━━━━━━━━━━━━\u001b[0m\u001b[37m\u001b[0m \u001b[1m1s\u001b[0m 4ms/step - loss: 22.0411 - mae: 3.4196 - val_loss: 17.6233 - val_mae: 3.1138\n",
      "Epoch 7/10\n",
      "\u001b[1m166/166\u001b[0m \u001b[32m━━━━━━━━━━━━━━━━━━━━\u001b[0m\u001b[37m\u001b[0m \u001b[1m1s\u001b[0m 4ms/step - loss: 16.2417 - mae: 2.8795 - val_loss: 13.9486 - val_mae: 2.7006\n",
      "Epoch 8/10\n",
      "\u001b[1m166/166\u001b[0m \u001b[32m━━━━━━━━━━━━━━━━━━━━\u001b[0m\u001b[37m\u001b[0m \u001b[1m1s\u001b[0m 3ms/step - loss: 13.0091 - mae: 2.4866 - val_loss: 11.5059 - val_mae: 2.3804\n",
      "Epoch 9/10\n",
      "\u001b[1m166/166\u001b[0m \u001b[32m━━━━━━━━━━━━━━━━━━━━\u001b[0m\u001b[37m\u001b[0m \u001b[1m1s\u001b[0m 5ms/step - loss: 11.0639 - mae: 2.2338 - val_loss: 9.8962 - val_mae: 2.1411\n",
      "Epoch 10/10\n",
      "\u001b[1m166/166\u001b[0m \u001b[32m━━━━━━━━━━━━━━━━━━━━\u001b[0m\u001b[37m\u001b[0m \u001b[1m1s\u001b[0m 4ms/step - loss: 9.9948 - mae: 2.0343 - val_loss: 8.7856 - val_mae: 1.9735\n",
      "Epoch 1/10\n",
      "\u001b[1m166/166\u001b[0m \u001b[32m━━━━━━━━━━━━━━━━━━━━\u001b[0m\u001b[37m\u001b[0m \u001b[1m3s\u001b[0m 6ms/step - loss: 2008.1674 - mae: 35.9445 - val_loss: 59.8656 - val_mae: 6.0366\n",
      "Epoch 2/10\n",
      "\u001b[1m166/166\u001b[0m \u001b[32m━━━━━━━━━━━━━━━━━━━━\u001b[0m\u001b[37m\u001b[0m \u001b[1m1s\u001b[0m 4ms/step - loss: 64.8795 - mae: 6.2471 - val_loss: 46.6041 - val_mae: 5.3086\n",
      "Epoch 3/10\n",
      "\u001b[1m166/166\u001b[0m \u001b[32m━━━━━━━━━━━━━━━━━━━━\u001b[0m\u001b[37m\u001b[0m \u001b[1m1s\u001b[0m 5ms/step - loss: 46.6875 - mae: 5.3457 - val_loss: 34.5918 - val_mae: 4.5545\n",
      "Epoch 4/10\n",
      "\u001b[1m166/166\u001b[0m \u001b[32m━━━━━━━━━━━━━━━━━━━━\u001b[0m\u001b[37m\u001b[0m \u001b[1m1s\u001b[0m 6ms/step - loss: 37.4209 - mae: 4.6532 - val_loss: 23.3292 - val_mae: 3.6859\n",
      "Epoch 5/10\n",
      "\u001b[1m166/166\u001b[0m \u001b[32m━━━━━━━━━━━━━━━━━━━━\u001b[0m\u001b[37m\u001b[0m \u001b[1m1s\u001b[0m 6ms/step - loss: 26.9953 - mae: 3.9036 - val_loss: 17.1598 - val_mae: 3.0919\n",
      "Epoch 6/10\n",
      "\u001b[1m166/166\u001b[0m \u001b[32m━━━━━━━━━━━━━━━━━━━━\u001b[0m\u001b[37m\u001b[0m \u001b[1m1s\u001b[0m 6ms/step - loss: 21.2233 - mae: 3.4136 - val_loss: 17.0014 - val_mae: 3.1880\n",
      "Epoch 7/10\n",
      "\u001b[1m166/166\u001b[0m \u001b[32m━━━━━━━━━━━━━━━━━━━━\u001b[0m\u001b[37m\u001b[0m \u001b[1m1s\u001b[0m 6ms/step - loss: 15.2537 - mae: 2.6834 - val_loss: 15.1502 - val_mae: 3.0133\n",
      "Epoch 8/10\n",
      "\u001b[1m166/166\u001b[0m \u001b[32m━━━━━━━━━━━━━━━━━━━━\u001b[0m\u001b[37m\u001b[0m \u001b[1m1s\u001b[0m 5ms/step - loss: 13.2267 - mae: 2.4635 - val_loss: 7.7749 - val_mae: 1.7687\n",
      "Epoch 9/10\n",
      "\u001b[1m166/166\u001b[0m \u001b[32m━━━━━━━━━━━━━━━━━━━━\u001b[0m\u001b[37m\u001b[0m \u001b[1m1s\u001b[0m 5ms/step - loss: 12.1436 - mae: 2.3877 - val_loss: 8.9035 - val_mae: 2.0163\n",
      "Epoch 10/10\n",
      "\u001b[1m166/166\u001b[0m \u001b[32m━━━━━━━━━━━━━━━━━━━━\u001b[0m\u001b[37m\u001b[0m \u001b[1m1s\u001b[0m 5ms/step - loss: 10.5245 - mae: 2.2679 - val_loss: 8.1052 - val_mae: 1.8641\n"
     ]
    }
   ],
   "source": [
    "# Define features and target\n",
    "X = df.drop(columns=['Exam_Score'])\n",
    "y = df['Exam_Score']\n",
    "\n",
    "# Train-test split\n",
    "X_train, X_test, y_train, y_test = train_test_split(X, y, test_size=0.2, random_state=42)\n",
    "\n",
    "# Reshape data to fit CNN input format\n",
    "X_train_cnn = np.expand_dims(X_train, axis=2)\n",
    "X_test_cnn = np.expand_dims(X_test, axis=2)\n",
    "\n",
    "# Define CNN Model 1\n",
    "def create_model_1():\n",
    "    model = Sequential([\n",
    "        Conv1D(filters=32, kernel_size=3, activation='relu', input_shape=(19, 1)),\n",
    "        MaxPooling1D(pool_size=2),\n",
    "        Flatten(),\n",
    "        Dense(64, activation='relu'),\n",
    "        Dense(1)\n",
    "    ])\n",
    "    model.compile(optimizer='adam', loss='mean_squared_error', metrics=['mae'])\n",
    "    return model\n",
    "\n",
    "# Define CNN Model 2\n",
    "def create_model_2():\n",
    "    model = Sequential([\n",
    "        Conv1D(filters=64, kernel_size=3, activation='relu', input_shape=(19, 1)),\n",
    "        MaxPooling1D(pool_size=2),\n",
    "        Dropout(0.2),\n",
    "        Conv1D(filters=32, kernel_size=3, activation='relu'),\n",
    "        MaxPooling1D(pool_size=2),\n",
    "        Flatten(),\n",
    "        Dense(128, activation='relu'),\n",
    "        Dense(1)\n",
    "    ])\n",
    "    model.compile(optimizer='adam', loss='mean_squared_error', metrics=['mae'])\n",
    "    return model\n",
    "\n",
    "# Create instances of both models\n",
    "model_1 = create_model_1()\n",
    "model_2 = create_model_2()\n",
    "\n",
    "# Train both models\n",
    "history_1 = model_1.fit(X_train_cnn, y_train, epochs=10, batch_size=32, validation_data=(X_test_cnn, y_test), verbose=1)\n",
    "history_2 = model_2.fit(X_train_cnn, y_train, epochs=10, batch_size=32, validation_data=(X_test_cnn, y_test), verbose=1)"
   ]
  },
  {
   "cell_type": "code",
   "execution_count": 20,
   "metadata": {},
   "outputs": [
    {
     "name": "stdout",
     "output_type": "stream",
     "text": [
      "\u001b[1m42/42\u001b[0m \u001b[32m━━━━━━━━━━━━━━━━━━━━\u001b[0m\u001b[37m\u001b[0m \u001b[1m0s\u001b[0m 3ms/step\n",
      "\u001b[1m42/42\u001b[0m \u001b[32m━━━━━━━━━━━━━━━━━━━━\u001b[0m\u001b[37m\u001b[0m \u001b[1m0s\u001b[0m 3ms/step\n",
      "{'Model 1': {'Accuracy': 0.17397881996974282, 'F1 Score': 0.1742253384096623, 'Precision': 0.1750011778931154}, 'Model 2': {'Accuracy': 0.1550680786686838, 'F1 Score': 0.1497750609590399, 'Precision': 0.16408987657781668}}\n"
     ]
    },
    {
     "name": "stderr",
     "output_type": "stream",
     "text": [
      "c:\\Users\\Chimni\\AppData\\Local\\Programs\\Python\\Python312\\Lib\\site-packages\\sklearn\\metrics\\_classification.py:1517: UndefinedMetricWarning: Precision is ill-defined and being set to 0.0 in labels with no predicted samples. Use `zero_division` parameter to control this behavior.\n",
      "  _warn_prf(average, modifier, f\"{metric.capitalize()} is\", len(result))\n",
      "c:\\Users\\Chimni\\AppData\\Local\\Programs\\Python\\Python312\\Lib\\site-packages\\sklearn\\metrics\\_classification.py:1517: UndefinedMetricWarning: Precision is ill-defined and being set to 0.0 in labels with no predicted samples. Use `zero_division` parameter to control this behavior.\n",
      "  _warn_prf(average, modifier, f\"{metric.capitalize()} is\", len(result))\n"
     ]
    }
   ],
   "source": [
    "# Predictions\n",
    "y_pred_1 = model_1.predict(X_test_cnn).flatten()\n",
    "y_pred_2 = model_2.predict(X_test_cnn).flatten()\n",
    "\n",
    "# Classification metrics (assuming rounding for classification)\n",
    "y_pred_1_class = np.round(y_pred_1)\n",
    "y_pred_2_class = np.round(y_pred_2)\n",
    "\n",
    "# Accuracy, F1 Score, Precision\n",
    "metrics = {\n",
    "    'Model 1': {\n",
    "        'Accuracy': accuracy_score(y_test, y_pred_1_class),\n",
    "        'F1 Score': f1_score(y_test, y_pred_1_class, average='weighted'),\n",
    "        'Precision': precision_score(y_test, y_pred_1_class, average='weighted')\n",
    "    },\n",
    "    'Model 2': {\n",
    "        'Accuracy': accuracy_score(y_test, y_pred_2_class),\n",
    "        'F1 Score': f1_score(y_test, y_pred_2_class, average='weighted'),\n",
    "        'Precision': precision_score(y_test, y_pred_2_class, average='weighted')\n",
    "    }\n",
    "}\n",
    "\n",
    "print(metrics)"
   ]
  },
  {
   "cell_type": "code",
   "execution_count": 21,
   "metadata": {},
   "outputs": [
    {
     "data": {
      "image/png": "[encoded data removed]",
      "text/plain": [
       "<Figure size 640x480 with 1 Axes>"
      ]
     },
     "metadata": {},
     "output_type": "display_data"
    }
   ],
   "source": [
    "# Plotting results\n",
    "plt.plot(history_1.history['val_loss'], label='Model 1 Validation Loss')\n",
    "plt.plot(history_2.history['val_loss'], label='Model 2 Validation Loss')\n",
    "plt.title('Validation Loss Comparison')\n",
    "plt.legend()\n",
    "plt.show()"
   ]
  },
  {
   "cell_type": "markdown",
   "metadata": {},
   "source": [
    "### Explanation:\n",
    "CNNs are typically designed for image processing tasks where the data has a clear spatial structure (e.g., pixels in a grid). When applying CNNs to numerical data, we reshape the input data into a 1D array with an extra dimension to mimic this spatial structure. Although CNNs might not be the most optimal choice for such tasks, they can still capture local dependencies in the data when applied to time-series or sequential data, which is somewhat analogous to our numerical features. \n",
    "\n",
    "In this case, each numerical feature could represent a \"pixel,\" and the convolutional layers try to learn patterns across these features."
   ]
  }
 ],
 "metadata": {
  "kernelspec": {
   "display_name": "Python 3",
   "language": "python",
   "name": "python3"
  },
  "language_info": {
   "codemirror_mode": {
    "name": "ipython",
    "version": 3
   },
   "file_extension": ".py",
   "mimetype": "text/x-python",
   "name": "python",
   "nbconvert_exporter": "python",
   "pygments_lexer": "ipython3",
   "version": "3.12.2"
  }
 },
 "nbformat": 4,
 "nbformat_minor": 2
}
